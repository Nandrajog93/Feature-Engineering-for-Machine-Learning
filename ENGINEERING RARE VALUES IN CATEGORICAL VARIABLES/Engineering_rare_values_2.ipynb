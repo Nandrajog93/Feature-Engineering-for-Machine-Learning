{
 "cells": [
  {
   "cell_type": "markdown",
   "metadata": {},
   "source": [
    "### Replacing the rare label by most frequent label"
   ]
  },
  {
   "cell_type": "code",
   "execution_count": 1,
   "metadata": {},
   "outputs": [],
   "source": [
    "import pandas as pd\n",
    "import numpy as np\n",
    "import seaborn as sns\n",
    "import matplotlib.pyplot as plt\n",
    "# % matplotlib inline\n",
    "\n",
    "from sklearn.ensemble import RandomForestRegressor\n",
    "#from sklearn.ensemble import GradientBoostingRegressor\n",
    "\n",
    "from sklearn.metrics import mean_squared_error\n",
    "from sklearn.model_selection import train_test_split"
   ]
  },
  {
   "cell_type": "code",
   "execution_count": 2,
   "metadata": {},
   "outputs": [
    {
     "data": {
      "text/html": [
       "<div>\n",
       "<style scoped>\n",
       "    .dataframe tbody tr th:only-of-type {\n",
       "        vertical-align: middle;\n",
       "    }\n",
       "\n",
       "    .dataframe tbody tr th {\n",
       "        vertical-align: top;\n",
       "    }\n",
       "\n",
       "    .dataframe thead th {\n",
       "        text-align: right;\n",
       "    }\n",
       "</style>\n",
       "<table border=\"1\" class=\"dataframe\">\n",
       "  <thead>\n",
       "    <tr style=\"text-align: right;\">\n",
       "      <th></th>\n",
       "      <th>Id</th>\n",
       "      <th>MSSubClass</th>\n",
       "      <th>MSZoning</th>\n",
       "      <th>LotFrontage</th>\n",
       "      <th>LotArea</th>\n",
       "      <th>Street</th>\n",
       "      <th>Alley</th>\n",
       "      <th>LotShape</th>\n",
       "      <th>LandContour</th>\n",
       "      <th>Utilities</th>\n",
       "      <th>...</th>\n",
       "      <th>PoolArea</th>\n",
       "      <th>PoolQC</th>\n",
       "      <th>Fence</th>\n",
       "      <th>MiscFeature</th>\n",
       "      <th>MiscVal</th>\n",
       "      <th>MoSold</th>\n",
       "      <th>YrSold</th>\n",
       "      <th>SaleType</th>\n",
       "      <th>SaleCondition</th>\n",
       "      <th>SalePrice</th>\n",
       "    </tr>\n",
       "  </thead>\n",
       "  <tbody>\n",
       "    <tr>\n",
       "      <th>0</th>\n",
       "      <td>1</td>\n",
       "      <td>60</td>\n",
       "      <td>RL</td>\n",
       "      <td>65.0</td>\n",
       "      <td>8450</td>\n",
       "      <td>Pave</td>\n",
       "      <td>NaN</td>\n",
       "      <td>Reg</td>\n",
       "      <td>Lvl</td>\n",
       "      <td>AllPub</td>\n",
       "      <td>...</td>\n",
       "      <td>0</td>\n",
       "      <td>NaN</td>\n",
       "      <td>NaN</td>\n",
       "      <td>NaN</td>\n",
       "      <td>0</td>\n",
       "      <td>2</td>\n",
       "      <td>2008</td>\n",
       "      <td>WD</td>\n",
       "      <td>Normal</td>\n",
       "      <td>208500</td>\n",
       "    </tr>\n",
       "    <tr>\n",
       "      <th>1</th>\n",
       "      <td>2</td>\n",
       "      <td>20</td>\n",
       "      <td>RL</td>\n",
       "      <td>80.0</td>\n",
       "      <td>9600</td>\n",
       "      <td>Pave</td>\n",
       "      <td>NaN</td>\n",
       "      <td>Reg</td>\n",
       "      <td>Lvl</td>\n",
       "      <td>AllPub</td>\n",
       "      <td>...</td>\n",
       "      <td>0</td>\n",
       "      <td>NaN</td>\n",
       "      <td>NaN</td>\n",
       "      <td>NaN</td>\n",
       "      <td>0</td>\n",
       "      <td>5</td>\n",
       "      <td>2007</td>\n",
       "      <td>WD</td>\n",
       "      <td>Normal</td>\n",
       "      <td>181500</td>\n",
       "    </tr>\n",
       "    <tr>\n",
       "      <th>2</th>\n",
       "      <td>3</td>\n",
       "      <td>60</td>\n",
       "      <td>RL</td>\n",
       "      <td>68.0</td>\n",
       "      <td>11250</td>\n",
       "      <td>Pave</td>\n",
       "      <td>NaN</td>\n",
       "      <td>IR1</td>\n",
       "      <td>Lvl</td>\n",
       "      <td>AllPub</td>\n",
       "      <td>...</td>\n",
       "      <td>0</td>\n",
       "      <td>NaN</td>\n",
       "      <td>NaN</td>\n",
       "      <td>NaN</td>\n",
       "      <td>0</td>\n",
       "      <td>9</td>\n",
       "      <td>2008</td>\n",
       "      <td>WD</td>\n",
       "      <td>Normal</td>\n",
       "      <td>223500</td>\n",
       "    </tr>\n",
       "    <tr>\n",
       "      <th>3</th>\n",
       "      <td>4</td>\n",
       "      <td>70</td>\n",
       "      <td>RL</td>\n",
       "      <td>60.0</td>\n",
       "      <td>9550</td>\n",
       "      <td>Pave</td>\n",
       "      <td>NaN</td>\n",
       "      <td>IR1</td>\n",
       "      <td>Lvl</td>\n",
       "      <td>AllPub</td>\n",
       "      <td>...</td>\n",
       "      <td>0</td>\n",
       "      <td>NaN</td>\n",
       "      <td>NaN</td>\n",
       "      <td>NaN</td>\n",
       "      <td>0</td>\n",
       "      <td>2</td>\n",
       "      <td>2006</td>\n",
       "      <td>WD</td>\n",
       "      <td>Abnorml</td>\n",
       "      <td>140000</td>\n",
       "    </tr>\n",
       "    <tr>\n",
       "      <th>4</th>\n",
       "      <td>5</td>\n",
       "      <td>60</td>\n",
       "      <td>RL</td>\n",
       "      <td>84.0</td>\n",
       "      <td>14260</td>\n",
       "      <td>Pave</td>\n",
       "      <td>NaN</td>\n",
       "      <td>IR1</td>\n",
       "      <td>Lvl</td>\n",
       "      <td>AllPub</td>\n",
       "      <td>...</td>\n",
       "      <td>0</td>\n",
       "      <td>NaN</td>\n",
       "      <td>NaN</td>\n",
       "      <td>NaN</td>\n",
       "      <td>0</td>\n",
       "      <td>12</td>\n",
       "      <td>2008</td>\n",
       "      <td>WD</td>\n",
       "      <td>Normal</td>\n",
       "      <td>250000</td>\n",
       "    </tr>\n",
       "  </tbody>\n",
       "</table>\n",
       "<p>5 rows × 81 columns</p>\n",
       "</div>"
      ],
      "text/plain": [
       "   Id  MSSubClass MSZoning  LotFrontage  LotArea Street Alley LotShape  \\\n",
       "0   1          60       RL         65.0     8450   Pave   NaN      Reg   \n",
       "1   2          20       RL         80.0     9600   Pave   NaN      Reg   \n",
       "2   3          60       RL         68.0    11250   Pave   NaN      IR1   \n",
       "3   4          70       RL         60.0     9550   Pave   NaN      IR1   \n",
       "4   5          60       RL         84.0    14260   Pave   NaN      IR1   \n",
       "\n",
       "  LandContour Utilities  ... PoolArea PoolQC Fence MiscFeature MiscVal MoSold  \\\n",
       "0         Lvl    AllPub  ...        0    NaN   NaN         NaN       0      2   \n",
       "1         Lvl    AllPub  ...        0    NaN   NaN         NaN       0      5   \n",
       "2         Lvl    AllPub  ...        0    NaN   NaN         NaN       0      9   \n",
       "3         Lvl    AllPub  ...        0    NaN   NaN         NaN       0      2   \n",
       "4         Lvl    AllPub  ...        0    NaN   NaN         NaN       0     12   \n",
       "\n",
       "  YrSold  SaleType  SaleCondition  SalePrice  \n",
       "0   2008        WD         Normal     208500  \n",
       "1   2007        WD         Normal     181500  \n",
       "2   2008        WD         Normal     223500  \n",
       "3   2006        WD        Abnorml     140000  \n",
       "4   2008        WD         Normal     250000  \n",
       "\n",
       "[5 rows x 81 columns]"
      ]
     },
     "execution_count": 2,
     "metadata": {},
     "output_type": "execute_result"
    }
   ],
   "source": [
    "# let's load the house price dataset from Kaggle\n",
    "\n",
    "data = pd.read_csv('/Users/nandrajog/Downloads/House-price.csv',low_memory=False)\n",
    "data.head()"
   ]
  },
  {
   "cell_type": "code",
   "execution_count": 3,
   "metadata": {},
   "outputs": [
    {
     "data": {
      "text/plain": [
       "((1022, 81), (438, 81))"
      ]
     },
     "execution_count": 3,
     "metadata": {},
     "output_type": "execute_result"
    }
   ],
   "source": [
    "# let's go ahead and divide dataset into train and test set\n",
    "\n",
    "X_train, X_test, y_train, y_test = train_test_split(data, data.SalePrice, test_size=0.3,\n",
    "                                                    random_state=0)\n",
    "X_train.shape, X_test.shape"
   ]
  },
  {
   "cell_type": "code",
   "execution_count": 69,
   "metadata": {},
   "outputs": [],
   "source": [
    "def train_rf(X_train, y_train, X_test, y_test, columns):\n",
    "    # function to train the random forest\n",
    "    # and test it on train and test sets\n",
    "    \n",
    "    rf = RandomForestRegressor(n_estimators=800, random_state=39)\n",
    "    \n",
    "    if type(columns)==str: # if we train using only 1 variable (pass a string instead of list in the \"columns\" argument of the function)\n",
    "        rf.fit(X_train[columns].to_frame(), y_train.values)\n",
    "        pred_train = rf.predict(X_train[columns].to_frame())\n",
    "        pred_test = rf.predict(X_test[columns].to_frame())\n",
    "        \n",
    "    else: # if we train using multiple variables (pass a list in the argument \"columns\")\n",
    "        rf.fit(X_train[columns], y_train.values)\n",
    "        pred_train = rf.predict(X_train[columns])\n",
    "        pred_test = rf.predict(X_test[columns])\n",
    "\n",
    "        print('Train set')\n",
    "        print('Random Forests mse: {}'.format(mean_squared_error(y_train, pred_train)))\n",
    "        print('Test set')\n",
    "        print('Random Forests mse: {}'.format(mean_squared_error(y_test, pred_test)))"
   ]
  },
  {
   "cell_type": "code",
   "execution_count": 5,
   "metadata": {},
   "outputs": [],
   "source": [
    "def labels_to_numbers(X_train, X_test, columns):\n",
    "    # function to encode labels into numbers\n",
    "    # each label will be assigned an ordinal number from 0 onwards\n",
    "    \n",
    "    for col in columns:\n",
    "        labels_dict = {k:i for i, k in enumerate(X_train[col].unique(), 0)}\n",
    "        X_train.loc[:, col] = X_train.loc[:, col].map(labels_dict )\n",
    "        X_test.loc[:, col] = X_test.loc[:, col].map(labels_dict)"
   ]
  },
  {
   "cell_type": "code",
   "execution_count": 6,
   "metadata": {},
   "outputs": [
    {
     "name": "stdout",
     "output_type": "stream",
     "text": [
      "MSZoning\n",
      "C (all)      9\n",
      "FV          38\n",
      "RH          14\n",
      "RL         819\n",
      "RM         142\n",
      "Name: MSZoning, dtype: int64\n",
      "\n",
      "LotConfig\n",
      "Corner     181\n",
      "CulDSac     68\n",
      "FR2         31\n",
      "FR3          1\n",
      "Inside     741\n",
      "Name: LotConfig, dtype: int64\n",
      "\n",
      "Neighborhood\n",
      "Blmngtn     12\n",
      "Blueste      2\n",
      "BrDale      10\n",
      "BrkSide     41\n",
      "ClearCr     24\n",
      "CollgCr    105\n",
      "Crawfor     35\n",
      "Edwards     71\n",
      "Gilbert     55\n",
      "IDOTRR      24\n",
      "MeadowV     12\n",
      "Mitchel     36\n",
      "NAmes      151\n",
      "NPkVill      7\n",
      "NWAmes      51\n",
      "NoRidge     30\n",
      "NridgHt     51\n",
      "OldTown     73\n",
      "SWISU       18\n",
      "Sawyer      61\n",
      "SawyerW     45\n",
      "Somerst     56\n",
      "StoneBr     16\n",
      "Timber      30\n",
      "Veenker      6\n",
      "Name: Neighborhood, dtype: int64\n",
      "\n",
      "Condition1\n",
      "Artery     26\n",
      "Feedr      50\n",
      "Norm      894\n",
      "PosA        6\n",
      "PosN       14\n",
      "RRAe       10\n",
      "RRAn       16\n",
      "RRNe        2\n",
      "RRNn        4\n",
      "Name: Condition1, dtype: int64\n",
      "\n",
      "Condition2\n",
      "Artery       1\n",
      "Feedr        4\n",
      "Norm      1015\n",
      "PosN         1\n",
      "RRAe         1\n",
      "Name: Condition2, dtype: int64\n",
      "\n",
      "BldgType\n",
      "1Fam      858\n",
      "2fmCon     22\n",
      "Duplex     33\n",
      "Twnhs      29\n",
      "TwnhsE     80\n",
      "Name: BldgType, dtype: int64\n",
      "\n",
      "HouseStyle\n",
      "1.5Fin    106\n",
      "1.5Unf     12\n",
      "1Story    508\n",
      "2.5Fin      5\n",
      "2.5Unf      8\n",
      "2Story    322\n",
      "SFoyer     21\n",
      "SLvl       40\n",
      "Name: HouseStyle, dtype: int64\n",
      "\n",
      "RoofStyle\n",
      "Flat        10\n",
      "Gable      797\n",
      "Gambrel      8\n",
      "Hip        199\n",
      "Mansard      6\n",
      "Shed         2\n",
      "Name: RoofStyle, dtype: int64\n",
      "\n",
      "RoofMatl\n",
      "CompShg    1001\n",
      "Metal         1\n",
      "Roll          1\n",
      "Tar&Grv       9\n",
      "WdShake       5\n",
      "WdShngl       5\n",
      "Name: RoofMatl, dtype: int64\n",
      "\n",
      "Exterior1st\n",
      "AsbShng     15\n",
      "AsphShn      1\n",
      "BrkComm      1\n",
      "BrkFace     35\n",
      "CBlock       1\n",
      "CemntBd     39\n",
      "HdBoard    153\n",
      "ImStucc      1\n",
      "MetalSd    138\n",
      "Plywood     86\n",
      "Stone        2\n",
      "Stucco      17\n",
      "VinylSd    364\n",
      "Wd Sdng    148\n",
      "WdShing     21\n",
      "Name: Exterior1st, dtype: int64\n",
      "\n",
      "Exterior2nd\n",
      "AsbShng     17\n",
      "AsphShn      1\n",
      "Brk Cmn      4\n",
      "BrkFace     18\n",
      "CBlock       1\n",
      "CmentBd     39\n",
      "HdBoard    141\n",
      "ImStucc      8\n",
      "MetalSd    136\n",
      "Other        1\n",
      "Plywood    112\n",
      "Stone        4\n",
      "Stucco      16\n",
      "VinylSd    353\n",
      "Wd Sdng    142\n",
      "Wd Shng     29\n",
      "Name: Exterior2nd, dtype: int64\n",
      "\n",
      "MasVnrType\n",
      "BrkCmn      10\n",
      "BrkFace    301\n",
      "None       609\n",
      "Stone       97\n",
      "Name: MasVnrType, dtype: int64\n",
      "\n",
      "ExterCond\n",
      "Ex      2\n",
      "Fa     25\n",
      "Gd    103\n",
      "Po      1\n",
      "TA    891\n",
      "Name: ExterCond, dtype: int64\n",
      "\n",
      "Foundation\n",
      "BrkTil    104\n",
      "CBlock    441\n",
      "PConc     452\n",
      "Slab       19\n",
      "Stone       5\n",
      "Wood        1\n",
      "Name: Foundation, dtype: int64\n",
      "\n",
      "BsmtQual\n",
      "Ex     82\n",
      "Fa     23\n",
      "Gd    430\n",
      "TA    463\n",
      "Name: BsmtQual, dtype: int64\n",
      "\n",
      "BsmtCond\n",
      "Fa     33\n",
      "Gd     46\n",
      "Po      2\n",
      "TA    917\n",
      "Name: BsmtCond, dtype: int64\n",
      "\n",
      "BsmtExposure\n",
      "Av    149\n",
      "Gd     90\n",
      "Mn     85\n",
      "No    674\n",
      "Name: BsmtExposure, dtype: int64\n",
      "\n",
      "BsmtFinType1\n",
      "ALQ    152\n",
      "BLQ    108\n",
      "GLQ    290\n",
      "LwQ     50\n",
      "Rec     95\n",
      "Unf    303\n",
      "Name: BsmtFinType1, dtype: int64\n",
      "\n",
      "BsmtFinType2\n",
      "ALQ     12\n",
      "BLQ     28\n",
      "GLQ      9\n",
      "LwQ     38\n",
      "Rec     37\n",
      "Unf    873\n",
      "Name: BsmtFinType2, dtype: int64\n",
      "\n",
      "Heating\n",
      "Floor       1\n",
      "GasA     1000\n",
      "GasW       12\n",
      "Grav        6\n",
      "OthW        1\n",
      "Wall        2\n",
      "Name: Heating, dtype: int64\n",
      "\n",
      "HeatingQC\n",
      "Ex    504\n",
      "Fa     33\n",
      "Gd    176\n",
      "Po      1\n",
      "TA    308\n",
      "Name: HeatingQC, dtype: int64\n",
      "\n",
      "Electrical\n",
      "FuseA     70\n",
      "FuseF     19\n",
      "FuseP      2\n",
      "Mix        1\n",
      "SBrkr    929\n",
      "Name: Electrical, dtype: int64\n",
      "\n",
      "Functional\n",
      "Maj1     11\n",
      "Maj2      2\n",
      "Min1     20\n",
      "Min2     28\n",
      "Mod      11\n",
      "Typ     950\n",
      "Name: Functional, dtype: int64\n",
      "\n",
      "FireplaceQu\n",
      "Ex     18\n",
      "Fa     26\n",
      "Gd    255\n",
      "Po     16\n",
      "TA    229\n",
      "Name: FireplaceQu, dtype: int64\n",
      "\n",
      "GarageType\n",
      "2Types       6\n",
      "Attchd     610\n",
      "Basment     13\n",
      "BuiltIn     65\n",
      "CarPort      5\n",
      "Detchd     269\n",
      "Name: GarageType, dtype: int64\n",
      "\n",
      "GarageQual\n",
      "Ex      2\n",
      "Fa     35\n",
      "Gd      9\n",
      "Po      3\n",
      "TA    919\n",
      "Name: GarageQual, dtype: int64\n",
      "\n",
      "GarageCond\n",
      "Ex      1\n",
      "Fa     28\n",
      "Gd      6\n",
      "Po      6\n",
      "TA    927\n",
      "Name: GarageCond, dtype: int64\n",
      "\n",
      "Fence\n",
      "GdPrv     46\n",
      "GdWo      37\n",
      "MnPrv    101\n",
      "MnWw       7\n",
      "Name: Fence, dtype: int64\n",
      "\n",
      "SaleType\n",
      "COD       26\n",
      "CWD        1\n",
      "Con        1\n",
      "ConLD      6\n",
      "ConLI      4\n",
      "ConLw      5\n",
      "New       80\n",
      "Oth        2\n",
      "WD       897\n",
      "Name: SaleType, dtype: int64\n",
      "\n",
      "SaleCondition\n",
      "Abnorml     72\n",
      "AdjLand      3\n",
      "Alloca       7\n",
      "Family      11\n",
      "Normal     847\n",
      "Partial     82\n",
      "Name: SaleCondition, dtype: int64\n",
      "\n"
     ]
    }
   ],
   "source": [
    "for col in X_train:\n",
    "    if X_train[col].dtype =='object':\n",
    "        if len(X_train[col].unique())>4:\n",
    "            print(X_train.groupby(col)[col].count())\n",
    "#             print(\"####### Percentage ########\" )\n",
    "#             print(X_train.groupby(col)[col].count()/np.float(len(data)))\n",
    "            print()"
   ]
  },
  {
   "cell_type": "code",
   "execution_count": 7,
   "metadata": {},
   "outputs": [
    {
     "name": "stdout",
     "output_type": "stream",
     "text": [
      "MasVnrType\n",
      "BrkCmn     0.010274\n",
      "BrkFace    0.304795\n",
      "None       0.591781\n",
      "Stone      0.087671\n",
      "Name: MasVnrType, dtype: float64\n",
      "\n",
      "ExterQual\n",
      "Ex    0.035616\n",
      "Fa    0.009589\n",
      "Gd    0.334247\n",
      "TA    0.620548\n",
      "Name: ExterQual, dtype: float64\n",
      "\n",
      "BsmtCond\n",
      "Fa    0.030822\n",
      "Gd    0.044521\n",
      "Po    0.001370\n",
      "TA    0.897945\n",
      "Name: BsmtCond, dtype: float64\n",
      "\n"
     ]
    }
   ],
   "source": [
    "cols = ['MasVnrType', 'ExterQual', 'BsmtCond']\n",
    "for col in cols:\n",
    "    print(data.groupby(col)[col].count()/np.float(len(data)))\n",
    "    print()"
   ]
  },
  {
   "cell_type": "code",
   "execution_count": 8,
   "metadata": {},
   "outputs": [
    {
     "data": {
      "text/plain": [
       "<matplotlib.axes._subplots.AxesSubplot at 0x1a1d1fcd30>"
      ]
     },
     "execution_count": 8,
     "metadata": {},
     "output_type": "execute_result"
    },
    {
     "data": {
      "image/png": "[encoded data removed]",
      "text/plain": [
       "<Figure size 432x288 with 1 Axes>"
      ]
     },
     "metadata": {
      "needs_background": "light"
     },
     "output_type": "display_data"
    }
   ],
   "source": [
    "fig = plt.figure()\n",
    "ax = fig.add_subplot(111)\n",
    "X_train.groupby(['MasVnrType'])['MasVnrType'].count().sort_values(ascending=False).plot.bar()\n"
   ]
  },
  {
   "cell_type": "code",
   "execution_count": 9,
   "metadata": {},
   "outputs": [
    {
     "name": "stdout",
     "output_type": "stream",
     "text": [
      "MasVnrType : 5\n",
      "ExterQual : 0\n",
      "BsmtCond : 24\n"
     ]
    }
   ],
   "source": [
    "for col in ['MasVnrType', 'ExterQual', 'BsmtCond']:\n",
    "    print(col,\":\",X_train[col].isnull().sum())"
   ]
  },
  {
   "cell_type": "markdown",
   "metadata": {},
   "source": [
    "Two of the variables have missing data, so let's replace by the most frequent category "
   ]
  },
  {
   "cell_type": "code",
   "execution_count": 10,
   "metadata": {},
   "outputs": [],
   "source": [
    "def Impute_na(df_train,df_test,col):\n",
    "    \n",
    "    most_frequent = df_train[col].value_counts().index[0]\n",
    "#     print(\"Most_frequent\", most_frequent)\n",
    "    df_train[col] = df_train[col].fillna(most_frequent)\n",
    "    df_test[col] = df_test[col].fillna(most_frequent)"
   ]
  },
  {
   "cell_type": "code",
   "execution_count": 11,
   "metadata": {},
   "outputs": [
    {
     "name": "stderr",
     "output_type": "stream",
     "text": [
      "/anaconda3/envs/C-vision/lib/python3.6/site-packages/ipykernel_launcher.py:5: SettingWithCopyWarning: \n",
      "A value is trying to be set on a copy of a slice from a DataFrame.\n",
      "Try using .loc[row_indexer,col_indexer] = value instead\n",
      "\n",
      "See the caveats in the documentation: http://pandas.pydata.org/pandas-docs/stable/user_guide/indexing.html#returning-a-view-versus-a-copy\n",
      "  \"\"\"\n",
      "/anaconda3/envs/C-vision/lib/python3.6/site-packages/ipykernel_launcher.py:6: SettingWithCopyWarning: \n",
      "A value is trying to be set on a copy of a slice from a DataFrame.\n",
      "Try using .loc[row_indexer,col_indexer] = value instead\n",
      "\n",
      "See the caveats in the documentation: http://pandas.pydata.org/pandas-docs/stable/user_guide/indexing.html#returning-a-view-versus-a-copy\n",
      "  \n"
     ]
    }
   ],
   "source": [
    "for col in (['MasVnrType', 'BsmtCond']):\n",
    "    Impute_na(X_train,X_test,col)"
   ]
  },
  {
   "cell_type": "code",
   "execution_count": 17,
   "metadata": {},
   "outputs": [
    {
     "data": {
      "text/plain": [
       "<matplotlib.axes._subplots.AxesSubplot at 0x1a1d1fca20>"
      ]
     },
     "execution_count": 17,
     "metadata": {},
     "output_type": "execute_result"
    },
    {
     "data": {
      "image/png": "[encoded data removed]",
      "text/plain": [
       "<Figure size 432x288 with 1 Axes>"
      ]
     },
     "metadata": {
      "needs_background": "light"
     },
     "output_type": "display_data"
    }
   ],
   "source": [
    "X_train.groupby(['MasVnrType'])['MasVnrType'].count().sort_values(ascending =False).plot.bar()"
   ]
  },
  {
   "cell_type": "code",
   "execution_count": 22,
   "metadata": {},
   "outputs": [
    {
     "name": "stdout",
     "output_type": "stream",
     "text": [
      "MasVnrType    0\n",
      "ExterQual     0\n",
      "BsmtCond      0\n",
      "dtype: int64\n",
      "MasVnrType    0\n",
      "ExterQual     0\n",
      "BsmtCond      0\n",
      "dtype: int64\n"
     ]
    }
   ],
   "source": [
    "for col in ['MasVnrType', 'BsmtCond']:\n",
    "#     impute_na(X_train, X_test, col)\n",
    "    \n",
    "    print(X_train[cols].isnull().sum())"
   ]
  },
  {
   "cell_type": "code",
   "execution_count": 31,
   "metadata": {},
   "outputs": [],
   "source": [
    "# X_train.MasVnrType.index.values.min()"
   ]
  },
  {
   "cell_type": "code",
   "execution_count": 38,
   "metadata": {},
   "outputs": [
    {
     "data": {
      "text/plain": [
       "<matplotlib.axes._subplots.AxesSubplot at 0x1a21cd7358>"
      ]
     },
     "execution_count": 38,
     "metadata": {},
     "output_type": "execute_result"
    },
    {
     "data": {
      "image/png": "[encoded data removed]",
      "text/plain": [
       "<Figure size 432x288 with 1 Axes>"
      ]
     },
     "metadata": {
      "needs_background": "light"
     },
     "output_type": "display_data"
    }
   ],
   "source": [
    "temp = X_train.groupby(['MasVnrType'])['MasVnrType'].count()\n",
    "temp.plot.bar()"
   ]
  },
  {
   "cell_type": "code",
   "execution_count": 43,
   "metadata": {},
   "outputs": [],
   "source": [
    "temp =temp/len(X_train)"
   ]
  },
  {
   "cell_type": "code",
   "execution_count": 56,
   "metadata": {},
   "outputs": [
    {
     "data": {
      "text/plain": [
       "'BrkCmn'"
      ]
     },
     "execution_count": 56,
     "metadata": {},
     "output_type": "execute_result"
    }
   ],
   "source": [
    "temp.loc[temp<0.05].index[0]"
   ]
  },
  {
   "cell_type": "markdown",
   "metadata": {},
   "source": [
    "This plot shows that the Rare value is \"BrkCmn\""
   ]
  },
  {
   "cell_type": "code",
   "execution_count": 51,
   "metadata": {},
   "outputs": [
    {
     "data": {
      "text/plain": [
       "'BrkCmn'"
      ]
     },
     "execution_count": 51,
     "metadata": {},
     "output_type": "execute_result"
    }
   ],
   "source": [
    "x =temp.loc[temp<0.05].index[0]\n",
    "x"
   ]
  },
  {
   "cell_type": "code",
   "execution_count": 57,
   "metadata": {},
   "outputs": [],
   "source": [
    "def rare_imputation(df_train, df_test, variable):\n",
    "    \n",
    "    # find the most frequent category\n",
    "#     frequent_cat = X_train.groupby(variable)[variable].count().sort_values().tail(1).index.values[0]\n",
    "    most_frequent = df_train[col].value_counts().index[0]\n",
    "    # find rare labels\n",
    "    temp = df_train.groupby([variable])[variable].count()/np.float(len(X_train))\n",
    "    rare_cat = [x for x in temp.loc[temp<0.05].index.values]\n",
    "    \n",
    "    # create new variables, with Rare labels imputed\n",
    "    \n",
    "    # by the most frequent category\n",
    "    X_train[variable+'_freq_imp'] = np.where(X_train[variable].isin(rare_cat), most_frequent, X_train[variable])\n",
    "    X_test[variable+'_freq_imp'] = np.where(X_test[variable].isin(rare_cat), most_frequent, X_test[variable])\n",
    "    \n",
    "    # by adding a new label 'Rare'\n",
    "    X_train[variable+'_rare_imp'] = np.where(X_train[variable].isin(rare_cat), 'Rare', X_train[variable])\n",
    "    X_test[variable+'_rare_imp'] = np.where(X_test[variable].isin(rare_cat), 'Rare', X_test[variable])"
   ]
  },
  {
   "cell_type": "code",
   "execution_count": 60,
   "metadata": {},
   "outputs": [
    {
     "name": "stderr",
     "output_type": "stream",
     "text": [
      "/anaconda3/envs/C-vision/lib/python3.6/site-packages/ipykernel_launcher.py:13: SettingWithCopyWarning: \n",
      "A value is trying to be set on a copy of a slice from a DataFrame.\n",
      "Try using .loc[row_indexer,col_indexer] = value instead\n",
      "\n",
      "See the caveats in the documentation: http://pandas.pydata.org/pandas-docs/stable/user_guide/indexing.html#returning-a-view-versus-a-copy\n",
      "  del sys.path[0]\n",
      "/anaconda3/envs/C-vision/lib/python3.6/site-packages/ipykernel_launcher.py:14: SettingWithCopyWarning: \n",
      "A value is trying to be set on a copy of a slice from a DataFrame.\n",
      "Try using .loc[row_indexer,col_indexer] = value instead\n",
      "\n",
      "See the caveats in the documentation: http://pandas.pydata.org/pandas-docs/stable/user_guide/indexing.html#returning-a-view-versus-a-copy\n",
      "  \n",
      "/anaconda3/envs/C-vision/lib/python3.6/site-packages/ipykernel_launcher.py:17: SettingWithCopyWarning: \n",
      "A value is trying to be set on a copy of a slice from a DataFrame.\n",
      "Try using .loc[row_indexer,col_indexer] = value instead\n",
      "\n",
      "See the caveats in the documentation: http://pandas.pydata.org/pandas-docs/stable/user_guide/indexing.html#returning-a-view-versus-a-copy\n",
      "/anaconda3/envs/C-vision/lib/python3.6/site-packages/ipykernel_launcher.py:18: SettingWithCopyWarning: \n",
      "A value is trying to be set on a copy of a slice from a DataFrame.\n",
      "Try using .loc[row_indexer,col_indexer] = value instead\n",
      "\n",
      "See the caveats in the documentation: http://pandas.pydata.org/pandas-docs/stable/user_guide/indexing.html#returning-a-view-versus-a-copy\n"
     ]
    }
   ],
   "source": [
    "rare_imputation(X_train,X_test,'MasVnrType')"
   ]
  },
  {
   "cell_type": "code",
   "execution_count": 67,
   "metadata": {},
   "outputs": [
    {
     "data": {
      "text/plain": [
       "<matplotlib.axes._subplots.AxesSubplot at 0x1a201dc588>"
      ]
     },
     "execution_count": 67,
     "metadata": {},
     "output_type": "execute_result"
    },
    {
     "data": {
      "image/png": "[encoded data removed]",
      "text/plain": [
       "<Figure size 432x288 with 1 Axes>"
      ]
     },
     "metadata": {
      "needs_background": "light"
     },
     "output_type": "display_data"
    }
   ],
   "source": [
    "X_train.groupby(['MasVnrType_rare_imp'])['MasVnrType_rare_imp'].count().plot.bar()"
   ]
  },
  {
   "cell_type": "code",
   "execution_count": 71,
   "metadata": {},
   "outputs": [
    {
     "name": "stderr",
     "output_type": "stream",
     "text": [
      "/anaconda3/envs/C-vision/lib/python3.6/site-packages/pandas/core/indexing.py:494: SettingWithCopyWarning: \n",
      "A value is trying to be set on a copy of a slice from a DataFrame.\n",
      "Try using .loc[row_indexer,col_indexer] = value instead\n",
      "\n",
      "See the caveats in the documentation: http://pandas.pydata.org/pandas-docs/stable/user_guide/indexing.html#returning-a-view-versus-a-copy\n",
      "  self.obj[item] = s\n"
     ]
    }
   ],
   "source": [
    "labels_to_numbers(X_train, X_test, ['MasVnrType', 'MasVnrType_rare_imp', 'MasVnrType_freq_imp'])\n",
    "\n",
    "# and then we build a random forest using the original distribution\n"
   ]
  },
  {
   "cell_type": "code",
   "execution_count": 103,
   "metadata": {},
   "outputs": [
    {
     "data": {
      "text/plain": [
       "64      0\n",
       "682     1\n",
       "960     1\n",
       "1384    1\n",
       "1100    1\n",
       "       ..\n",
       "763     0\n",
       "835     1\n",
       "1216    1\n",
       "559     0\n",
       "684     0\n",
       "Name: MasVnrType, Length: 1022, dtype: int64"
      ]
     },
     "execution_count": 103,
     "metadata": {},
     "output_type": "execute_result"
    }
   ],
   "source": [
    "X_train['MasVnrType']"
   ]
  },
  {
   "cell_type": "code",
   "execution_count": 104,
   "metadata": {},
   "outputs": [],
   "source": [
    " rf = RandomForestRegressor(n_estimators=800, random_state=39)"
   ]
  },
  {
   "cell_type": "code",
   "execution_count": 134,
   "metadata": {},
   "outputs": [
    {
     "name": "stdout",
     "output_type": "stream",
     "text": [
      "Train set\n",
      "Random Forests mse: 4879648935.038812\n",
      "Test set\n",
      "Random Forests mse: 5785517057.405808\n"
     ]
    }
   ],
   "source": [
    "rf.fit(X_train.MasVnrType.to_frame(), y_train.values)\n",
    "pred_train = rf.predict(X_train.MasVnrType.to_frame())\n",
    "pred_test = rf.predict(X_test.MasVnrType.to_frame())\n",
    "\n",
    "print('Train set')\n",
    "print('Random Forests mse: {}'.format(mean_squared_error(y_train, pred_train)))\n",
    "print('Test set')\n",
    "print('Random Forests mse: {}'.format(mean_squared_error(y_test, pred_test)))\n",
    "        "
   ]
  },
  {
   "cell_type": "code",
   "execution_count": 135,
   "metadata": {},
   "outputs": [
    {
     "name": "stdout",
     "output_type": "stream",
     "text": [
      "Train set\n",
      "Random Forests mse: 4879648935.038812\n",
      "Test set\n",
      "Random Forests mse: 5785517057.405808\n"
     ]
    }
   ],
   "source": [
    "rf.fit(X_train.MasVnrType_freq_imp.to_frame(), y_train.values)\n",
    "\n",
    "pred_train = rf.predict(X_train.MasVnrType_freq_imp.to_frame())\n",
    "\n",
    "pred_test = rf.predict(X_test.MasVnrType_freq_imp.to_frame())\n",
    "\n",
    "print('Train set')\n",
    "print('Random Forests mse: {}'.format(mean_squared_error(y_train, pred_train)))\n",
    "print('Test set')\n",
    "print('Random Forests mse: {}'.format(mean_squared_error(y_test, pred_test)))"
   ]
  },
  {
   "cell_type": "code",
   "execution_count": 136,
   "metadata": {},
   "outputs": [
    {
     "name": "stdout",
     "output_type": "stream",
     "text": [
      "Train set\n",
      "Random Forests mse: 4879648935.038812\n",
      "Test set\n",
      "Random Forests mse: 5785517057.405808\n"
     ]
    }
   ],
   "source": [
    "rf.fit(X_train.MasVnrType_rare_imp.to_frame(), y_train.values)\n",
    "\n",
    "pred_train = rf.predict(X_train.MasVnrType_rare_imp.to_frame())\n",
    "\n",
    "pred_test = rf.predict(X_test.MasVnrType_rare_imp.to_frame())\n",
    "\n",
    "print('Train set')\n",
    "print('Random Forests mse: {}'.format(mean_squared_error(y_train, pred_train)))\n",
    "print('Test set')\n",
    "print('Random Forests mse: {}'.format(mean_squared_error(y_test, pred_test)))"
   ]
  },
  {
   "cell_type": "markdown",
   "metadata": {},
   "source": [
    "Similary we can explore remianing varaible"
   ]
  },
  {
   "cell_type": "markdown",
   "metadata": {},
   "source": [
    "In my opinion, engineering rare labels in variables with very few categories like the ones we worked in this notebook, seems unlikely to bring forward a boost in the performance of the algorithm. And this is because few categories are unlikely to bring so much noise.\n",
    "\n",
    "However, if the number of categories increases, then it becomes more important to handle the rare labels."
   ]
  },
  {
   "cell_type": "code",
   "execution_count": null,
   "metadata": {},
   "outputs": [],
   "source": []
  }
 ],
 "metadata": {
  "kernelspec": {
   "display_name": "Python 3",
   "language": "python",
   "name": "python3"
  },
  "language_info": {
   "codemirror_mode": {
    "name": "ipython",
    "version": 3
   },
   "file_extension": ".py",
   "mimetype": "text/x-python",
   "name": "python",
   "nbconvert_exporter": "python",
   "pygments_lexer": "ipython3",
   "version": "3.6.9"
  }
 },
 "nbformat": 4,
 "nbformat_minor": 2
}
