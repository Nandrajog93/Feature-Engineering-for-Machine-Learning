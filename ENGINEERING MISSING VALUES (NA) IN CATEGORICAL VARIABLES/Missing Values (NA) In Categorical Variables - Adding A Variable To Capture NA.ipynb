{
 "cells": [
  {
   "cell_type": "markdown",
   "metadata": {},
   "source": [
    "In this notebook we are going to replace missing Categorical value by Binary number instead of Frequent or random sampling"
   ]
  },
  {
   "cell_type": "markdown",
   "metadata": {},
   "source": [
    "Previous 2 method assum that data are missing completly random and suitable when the number of missing data is small \n",
    "otherwie it may affect the distribution of the target with in the variable\n",
    "\n",
    "Now here we replace missing data by 1 or not by 0"
   ]
  },
  {
   "cell_type": "code",
   "execution_count": 14,
   "metadata": {},
   "outputs": [],
   "source": [
    "import pandas as pd\n",
    "import numpy as np \n",
    "import matplotlib.pyplot as plt\n",
    "from sklearn.model_selection import train_test_split\n",
    "from sklearn.linear_model import LinearRegression\n",
    "from sklearn.metrics import mean_squared_error"
   ]
  },
  {
   "cell_type": "code",
   "execution_count": 2,
   "metadata": {},
   "outputs": [],
   "source": [
    "data = pd.read_csv('/Users/nandrajog/Downloads/House-price.csv',low_memory=False)"
   ]
  },
  {
   "cell_type": "code",
   "execution_count": 3,
   "metadata": {},
   "outputs": [],
   "source": [
    "croped_data = data[['BsmtQual','FireplaceQu','GarageType','SalePrice']]"
   ]
  },
  {
   "cell_type": "code",
   "execution_count": 4,
   "metadata": {},
   "outputs": [],
   "source": [
    "X_train,X_test,Y_train,Y_test = train_test_split(croped_data[['BsmtQual','FireplaceQu','GarageType']],\n",
    "                                                 croped_data.SalePrice,train_size = 0.8,random_state=0)\n"
   ]
  },
  {
   "cell_type": "code",
   "execution_count": 5,
   "metadata": {},
   "outputs": [],
   "source": [
    "def Impute_na(df_train,df_test,col):\n",
    "    most_frequent = df_train[col].value_counts().index[0]\n",
    "    df_train[col+'_frequent'] = df_train[col].fillna(most_frequent)\n",
    "    df_test[col+'_frequent'] = df_test[col].fillna(most_frequent)\n",
    "    \n",
    "    random = np.random.choice(df_train[col].dropna())\n",
    "    print(random)\n",
    "    df_train[col+'_random'] = df_train[col].fillna(random)\n",
    "    df_test[col+'_random'] = df_test[col].fillna(random)\n",
    "    \n",
    "    df_train[col+'_NA'] = np.where(df_train[col].isnull(),1,0)\n",
    "    df_test[col+'_NA'] = np.where(df_test[col].isnull(),1,0)"
   ]
  },
  {
   "cell_type": "code",
   "execution_count": 6,
   "metadata": {},
   "outputs": [
    {
     "name": "stdout",
     "output_type": "stream",
     "text": [
      "TA\n",
      "Gd\n",
      "Detchd\n"
     ]
    }
   ],
   "source": [
    "for col in ['BsmtQual','FireplaceQu','GarageType']:\n",
    "    Impute_na(X_train,X_test,col)"
   ]
  },
  {
   "cell_type": "code",
   "execution_count": 9,
   "metadata": {},
   "outputs": [
    {
     "data": {
      "text/plain": [
       "0    1140\n",
       "1      28\n",
       "Name: BsmtQual_NA, dtype: int64"
      ]
     },
     "execution_count": 9,
     "metadata": {},
     "output_type": "execute_result"
    }
   ],
   "source": [
    "X_train.BsmtQual_NA.value_counts()"
   ]
  },
  {
   "cell_type": "code",
   "execution_count": 10,
   "metadata": {},
   "outputs": [
    {
     "data": {
      "text/html": [
       "<div>\n",
       "<style scoped>\n",
       "    .dataframe tbody tr th:only-of-type {\n",
       "        vertical-align: middle;\n",
       "    }\n",
       "\n",
       "    .dataframe tbody tr th {\n",
       "        vertical-align: top;\n",
       "    }\n",
       "\n",
       "    .dataframe thead th {\n",
       "        text-align: right;\n",
       "    }\n",
       "</style>\n",
       "<table border=\"1\" class=\"dataframe\">\n",
       "  <thead>\n",
       "    <tr style=\"text-align: right;\">\n",
       "      <th></th>\n",
       "      <th>BsmtQual_NA</th>\n",
       "      <th>FireplaceQu_NA</th>\n",
       "      <th>GarageType_NA</th>\n",
       "    </tr>\n",
       "  </thead>\n",
       "  <tbody>\n",
       "    <tr>\n",
       "      <th>count</th>\n",
       "      <td>1168.000000</td>\n",
       "      <td>1168.000000</td>\n",
       "      <td>1168.000000</td>\n",
       "    </tr>\n",
       "    <tr>\n",
       "      <th>mean</th>\n",
       "      <td>0.023973</td>\n",
       "      <td>0.471747</td>\n",
       "      <td>0.049658</td>\n",
       "    </tr>\n",
       "    <tr>\n",
       "      <th>std</th>\n",
       "      <td>0.153029</td>\n",
       "      <td>0.499415</td>\n",
       "      <td>0.217329</td>\n",
       "    </tr>\n",
       "    <tr>\n",
       "      <th>min</th>\n",
       "      <td>0.000000</td>\n",
       "      <td>0.000000</td>\n",
       "      <td>0.000000</td>\n",
       "    </tr>\n",
       "    <tr>\n",
       "      <th>25%</th>\n",
       "      <td>0.000000</td>\n",
       "      <td>0.000000</td>\n",
       "      <td>0.000000</td>\n",
       "    </tr>\n",
       "    <tr>\n",
       "      <th>50%</th>\n",
       "      <td>0.000000</td>\n",
       "      <td>0.000000</td>\n",
       "      <td>0.000000</td>\n",
       "    </tr>\n",
       "    <tr>\n",
       "      <th>75%</th>\n",
       "      <td>0.000000</td>\n",
       "      <td>1.000000</td>\n",
       "      <td>0.000000</td>\n",
       "    </tr>\n",
       "    <tr>\n",
       "      <th>max</th>\n",
       "      <td>1.000000</td>\n",
       "      <td>1.000000</td>\n",
       "      <td>1.000000</td>\n",
       "    </tr>\n",
       "  </tbody>\n",
       "</table>\n",
       "</div>"
      ],
      "text/plain": [
       "       BsmtQual_NA  FireplaceQu_NA  GarageType_NA\n",
       "count  1168.000000     1168.000000    1168.000000\n",
       "mean      0.023973        0.471747       0.049658\n",
       "std       0.153029        0.499415       0.217329\n",
       "min       0.000000        0.000000       0.000000\n",
       "25%       0.000000        0.000000       0.000000\n",
       "50%       0.000000        0.000000       0.000000\n",
       "75%       0.000000        1.000000       0.000000\n",
       "max       1.000000        1.000000       1.000000"
      ]
     },
     "execution_count": 10,
     "metadata": {},
     "output_type": "execute_result"
    }
   ],
   "source": [
    "X_train.describe()"
   ]
  },
  {
   "cell_type": "code",
   "execution_count": 18,
   "metadata": {},
   "outputs": [],
   "source": [
    "for col in ['BsmtQual_frequent','FireplaceQu_frequent','GarageType_frequent']:\n",
    "    labels_dict = {k:i for i,k in enumerate(X_train[col].unique())}\n",
    "    X_train.loc[:,col] = X_train.loc[:,col].map(labels_dict)\n",
    "    X_test.loc[:,col] = X_test.loc[:,col].map(labels_dict)\n",
    "    "
   ]
  },
  {
   "cell_type": "code",
   "execution_count": 19,
   "metadata": {},
   "outputs": [],
   "source": [
    "for col in ['BsmtQual_random','FireplaceQu_random','GarageType_random']:\n",
    "    labels_dict = {k:i for i,k in enumerate(X_train[col].unique())}\n",
    "    X_train.loc[:,col] = X_train.loc[:,col].map(labels_dict)\n",
    "    X_test.loc[:,col] = X_test.loc[:,col].map(labels_dict)\n",
    "    "
   ]
  },
  {
   "cell_type": "markdown",
   "metadata": {},
   "source": [
    "Frequent"
   ]
  },
  {
   "cell_type": "code",
   "execution_count": 20,
   "metadata": {},
   "outputs": [
    {
     "name": "stdout",
     "output_type": "stream",
     "text": [
      "Train Set\n",
      "MSE 5945910923.453074\n",
      "Test Set\n",
      "MSE 6569703369.803234\n"
     ]
    }
   ],
   "source": [
    "clf = LinearRegression()\n",
    "clf.fit(X_train[['BsmtQual_frequent','FireplaceQu_frequent','GarageType_frequent']],Y_train)\n",
    "predict_train = clf.predict(X_train[['BsmtQual_frequent','FireplaceQu_frequent','GarageType_frequent']])\n",
    "print(\"Train Set\")\n",
    "print(\"MSE {}\".format(mean_squared_error(predict_train,Y_train)))\n",
    "print(\"Test Set\")\n",
    "predict_test = clf.predict(X_test[['BsmtQual_frequent','FireplaceQu_frequent','GarageType_frequent']])\n",
    "print(\"MSE {}\".format(mean_squared_error(predict_test,Y_test)))"
   ]
  },
  {
   "cell_type": "markdown",
   "metadata": {},
   "source": [
    "Random"
   ]
  },
  {
   "cell_type": "code",
   "execution_count": 21,
   "metadata": {},
   "outputs": [
    {
     "name": "stdout",
     "output_type": "stream",
     "text": [
      "Train Set\n",
      "MSE 5834899510.628225\n",
      "Test Set\n",
      "MSE 6417505292.43171\n"
     ]
    }
   ],
   "source": [
    "clf = LinearRegression()\n",
    "clf.fit(X_train[['BsmtQual_random','FireplaceQu_random','GarageType_random']],Y_train)\n",
    "predict_train = clf.predict(X_train[['BsmtQual_random','FireplaceQu_random','GarageType_random']])\n",
    "print(\"Train Set\")\n",
    "print(\"MSE {}\".format(mean_squared_error(predict_train,Y_train)))\n",
    "print(\"Test Set\")\n",
    "predict_test = clf.predict(X_test[['BsmtQual_random','FireplaceQu_random','GarageType_random']])\n",
    "print(\"MSE {}\".format(mean_squared_error(predict_test,Y_test)))"
   ]
  },
  {
   "cell_type": "code",
   "execution_count": 22,
   "metadata": {},
   "outputs": [
    {
     "data": {
      "text/plain": [
       "Index(['BsmtQual', 'FireplaceQu', 'GarageType', 'BsmtQual_frequent',\n",
       "       'BsmtQual_random', 'BsmtQual_NA', 'FireplaceQu_frequent',\n",
       "       'FireplaceQu_random', 'FireplaceQu_NA', 'GarageType_frequent',\n",
       "       'GarageType_random', 'GarageType_NA'],\n",
       "      dtype='object')"
      ]
     },
     "execution_count": 22,
     "metadata": {},
     "output_type": "execute_result"
    }
   ],
   "source": [
    "X_train.columns"
   ]
  },
  {
   "cell_type": "markdown",
   "metadata": {},
   "source": [
    "Binary"
   ]
  },
  {
   "cell_type": "code",
   "execution_count": 23,
   "metadata": {},
   "outputs": [
    {
     "name": "stdout",
     "output_type": "stream",
     "text": [
      "Train Set\n",
      "MSE 4325506066.080129\n",
      "Test Set\n",
      "MSE 5135941385.82099\n"
     ]
    }
   ],
   "source": [
    "clf = LinearRegression()\n",
    "clf.fit(X_train[['BsmtQual_random','FireplaceQu_random','GarageType_random','BsmtQual_NA','FireplaceQu_NA',\n",
    "                'GarageType_NA']],Y_train)\n",
    "predict_train = clf.predict(X_train[['BsmtQual_random','FireplaceQu_random','GarageType_random','BsmtQual_NA','FireplaceQu_NA',\n",
    "                'GarageType_NA']])\n",
    "print(\"Train Set\")\n",
    "print(\"MSE {}\".format(mean_squared_error(predict_train,Y_train)))\n",
    "print(\"Test Set\")\n",
    "predict_test = clf.predict(X_test[['BsmtQual_random','FireplaceQu_random','GarageType_random','BsmtQual_NA','FireplaceQu_NA',\n",
    "                'GarageType_NA']])\n",
    "print(\"MSE {}\".format(mean_squared_error(predict_test,Y_test)))"
   ]
  },
  {
   "cell_type": "markdown",
   "metadata": {},
   "source": [
    "WOW ! AMAZING, Here we observe creating the that additional variable to capture missingness. The MSE on test set decreases by a huge margin "
   ]
  }
 ],
 "metadata": {
  "kernelspec": {
   "display_name": "Python 3",
   "language": "python",
   "name": "python3"
  },
  "language_info": {
   "codemirror_mode": {
    "name": "ipython",
    "version": 3
   },
   "file_extension": ".py",
   "mimetype": "text/x-python",
   "name": "python",
   "nbconvert_exporter": "python",
   "pygments_lexer": "ipython3",
   "version": "3.6.9"
  }
 },
 "nbformat": 4,
 "nbformat_minor": 2
}
