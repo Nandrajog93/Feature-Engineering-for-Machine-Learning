{
 "cells": [
  {
   "cell_type": "markdown",
   "metadata": {},
   "source": [
    "In previous notebook we replace the missing Categorical value with Most frequent value. In this we are going to replace Missing NA categorical value by Random Sampling"
   ]
  },
  {
   "cell_type": "code",
   "execution_count": 1,
   "metadata": {},
   "outputs": [],
   "source": [
    "import pandas as pd\n",
    "import numpy as np \n",
    "from sklearn.metrics import mean_squared_error\n",
    "from sklearn.model_selection import train_test_split\n",
    "import matplotlib.pyplot as plt"
   ]
  },
  {
   "cell_type": "code",
   "execution_count": 2,
   "metadata": {},
   "outputs": [],
   "source": [
    "data= pd.read_csv('/Users/nandrajog/Downloads/House-price.csv',low_memory=False)"
   ]
  },
  {
   "cell_type": "code",
   "execution_count": 3,
   "metadata": {},
   "outputs": [],
   "source": [
    "croped_data = data[['BsmtQual','FireplaceQu','GarageType','SalePrice']]"
   ]
  },
  {
   "cell_type": "code",
   "execution_count": 4,
   "metadata": {},
   "outputs": [
    {
     "data": {
      "text/html": [
       "<div>\n",
       "<style scoped>\n",
       "    .dataframe tbody tr th:only-of-type {\n",
       "        vertical-align: middle;\n",
       "    }\n",
       "\n",
       "    .dataframe tbody tr th {\n",
       "        vertical-align: top;\n",
       "    }\n",
       "\n",
       "    .dataframe thead th {\n",
       "        text-align: right;\n",
       "    }\n",
       "</style>\n",
       "<table border=\"1\" class=\"dataframe\">\n",
       "  <thead>\n",
       "    <tr style=\"text-align: right;\">\n",
       "      <th></th>\n",
       "      <th>0</th>\n",
       "    </tr>\n",
       "  </thead>\n",
       "  <tbody>\n",
       "    <tr>\n",
       "      <th>BsmtQual</th>\n",
       "      <td>37</td>\n",
       "    </tr>\n",
       "    <tr>\n",
       "      <th>FireplaceQu</th>\n",
       "      <td>690</td>\n",
       "    </tr>\n",
       "    <tr>\n",
       "      <th>GarageType</th>\n",
       "      <td>81</td>\n",
       "    </tr>\n",
       "    <tr>\n",
       "      <th>SalePrice</th>\n",
       "      <td>0</td>\n",
       "    </tr>\n",
       "  </tbody>\n",
       "</table>\n",
       "</div>"
      ],
      "text/plain": [
       "               0\n",
       "BsmtQual      37\n",
       "FireplaceQu  690\n",
       "GarageType    81\n",
       "SalePrice      0"
      ]
     },
     "execution_count": 4,
     "metadata": {},
     "output_type": "execute_result"
    }
   ],
   "source": [
    "pd.DataFrame(croped_data.isna().sum())"
   ]
  },
  {
   "cell_type": "code",
   "execution_count": 42,
   "metadata": {},
   "outputs": [],
   "source": [
    "X_train,X_test,Y_train,Y_test = train_test_split(croped_data[['BsmtQual','FireplaceQu','GarageType','SalePrice']],\n",
    "                                                 croped_data.SalePrice,train_size = 0.8,random_state=0)"
   ]
  },
  {
   "cell_type": "code",
   "execution_count": 43,
   "metadata": {},
   "outputs": [],
   "source": [
    "x = X_train.copy()"
   ]
  },
  {
   "cell_type": "code",
   "execution_count": 44,
   "metadata": {},
   "outputs": [
    {
     "data": {
      "text/plain": [
       "Attchd     696\n",
       "Detchd     315\n",
       "BuiltIn     74\n",
       "Basment     14\n",
       "2Types       6\n",
       "CarPort      5\n",
       "Name: GarageType, dtype: int64"
      ]
     },
     "execution_count": 44,
     "metadata": {},
     "output_type": "execute_result"
    }
   ],
   "source": [
    "x['GarageType'].value_counts()"
   ]
  },
  {
   "cell_type": "code",
   "execution_count": 45,
   "metadata": {},
   "outputs": [],
   "source": [
    "def Impute_na(df_train,df_test,col):\n",
    "    most_frequent = df_train[col].value_counts().index[0]\n",
    "    df_train[col+'_frequent'] = df_train[col].fillna(most_frequent)\n",
    "    df_test[col+'_frequent'] = df_test[col].fillna(most_frequent)\n",
    "    \n",
    "    random = np.random.choice(df_train[col].dropna())\n",
    "    print(random)\n",
    "    df_train[col+'_random'] = df_train[col].fillna(random)\n",
    "    df_test[col+'_random'] = df_test[col].fillna(random)\n",
    "    "
   ]
  },
  {
   "cell_type": "code",
   "execution_count": 46,
   "metadata": {},
   "outputs": [],
   "source": [
    "# Impute_na(X_train,'BsmtQual')"
   ]
  },
  {
   "cell_type": "code",
   "execution_count": 47,
   "metadata": {},
   "outputs": [
    {
     "name": "stdout",
     "output_type": "stream",
     "text": [
      "Gd\n",
      "TA\n",
      "Basment\n"
     ]
    }
   ],
   "source": [
    "for col in ['BsmtQual','FireplaceQu','GarageType']:\n",
    "    Impute_na(X_train,X_test,col)\n",
    "#     Impute_na(X_test,col)"
   ]
  },
  {
   "cell_type": "code",
   "execution_count": 48,
   "metadata": {},
   "outputs": [
    {
     "data": {
      "text/plain": [
       "BsmtQual                 28\n",
       "FireplaceQu             551\n",
       "GarageType               58\n",
       "SalePrice                 0\n",
       "BsmtQual_frequent         0\n",
       "BsmtQual_random           0\n",
       "FireplaceQu_frequent      0\n",
       "FireplaceQu_random        0\n",
       "GarageType_frequent       0\n",
       "GarageType_random         0\n",
       "dtype: int64"
      ]
     },
     "execution_count": 48,
     "metadata": {},
     "output_type": "execute_result"
    }
   ],
   "source": [
    "X_train.isna().sum()"
   ]
  },
  {
   "cell_type": "code",
   "execution_count": 49,
   "metadata": {},
   "outputs": [],
   "source": [
    "# X_train[X_train['BsmtQual_random']].value_counts().plot.bar()"
   ]
  },
  {
   "cell_type": "code",
   "execution_count": 50,
   "metadata": {},
   "outputs": [
    {
     "data": {
      "image/png": "[encoded data removed]",
      "text/plain": [
       "<Figure size 432x288 with 1 Axes>"
      ]
     },
     "metadata": {
      "needs_background": "light"
     },
     "output_type": "display_data"
    },
    {
     "data": {
      "image/png": "[encoded data removed]",
      "text/plain": [
       "<Figure size 432x288 with 1 Axes>"
      ]
     },
     "metadata": {
      "needs_background": "light"
     },
     "output_type": "display_data"
    },
    {
     "data": {
      "image/png": "[encoded data removed]",
      "text/plain": [
       "<Figure size 432x288 with 1 Axes>"
      ]
     },
     "metadata": {
      "needs_background": "light"
     },
     "output_type": "display_data"
    }
   ],
   "source": [
    "for col in ['FireplaceQu','FireplaceQu_frequent','FireplaceQu_random']:\n",
    "    X_train.groupby([col])[col].count().sort_values(ascending=False).plot.bar()\n",
    "    plt.show()"
   ]
  },
  {
   "cell_type": "code",
   "execution_count": 51,
   "metadata": {},
   "outputs": [
    {
     "data": {
      "image/png": "[encoded data removed]",
      "text/plain": [
       "<Figure size 432x288 with 1 Axes>"
      ]
     },
     "metadata": {
      "needs_background": "light"
     },
     "output_type": "display_data"
    },
    {
     "data": {
      "image/png": "[encoded data removed]",
      "text/plain": [
       "<Figure size 432x288 with 1 Axes>"
      ]
     },
     "metadata": {
      "needs_background": "light"
     },
     "output_type": "display_data"
    },
    {
     "data": {
      "image/png": "[encoded data removed]",
      "text/plain": [
       "<Figure size 432x288 with 1 Axes>"
      ]
     },
     "metadata": {
      "needs_background": "light"
     },
     "output_type": "display_data"
    }
   ],
   "source": [
    "for col in ['GarageType','GarageType_frequent','GarageType_random']:\n",
    "    X_train.groupby([col])[col].count().sort_values(ascending=False).plot.bar()\n",
    "    plt.show()"
   ]
  },
  {
   "cell_type": "code",
   "execution_count": 52,
   "metadata": {},
   "outputs": [
    {
     "data": {
      "image/png": "[encoded data removed]",
      "text/plain": [
       "<Figure size 432x288 with 1 Axes>"
      ]
     },
     "metadata": {
      "needs_background": "light"
     },
     "output_type": "display_data"
    },
    {
     "data": {
      "image/png": "[encoded data removed]",
      "text/plain": [
       "<Figure size 432x288 with 1 Axes>"
      ]
     },
     "metadata": {
      "needs_background": "light"
     },
     "output_type": "display_data"
    },
    {
     "data": {
      "image/png": "[encoded data removed]",
      "text/plain": [
       "<Figure size 432x288 with 1 Axes>"
      ]
     },
     "metadata": {
      "needs_background": "light"
     },
     "output_type": "display_data"
    }
   ],
   "source": [
    "for col in ['BsmtQual','BsmtQual_frequent','BsmtQual_random']:\n",
    "    X_train.groupby([col])[col].count().sort_values(ascending=False).plot.bar()\n",
    "    plt.show()"
   ]
  },
  {
   "cell_type": "code",
   "execution_count": 53,
   "metadata": {},
   "outputs": [],
   "source": [
    "#Let's Convert categorical into Numeric values"
   ]
  },
  {
   "cell_type": "code",
   "execution_count": 54,
   "metadata": {},
   "outputs": [
    {
     "data": {
      "text/plain": [
       "array(['Ex', 'TA', 'Gd', nan, 'Fa'], dtype=object)"
      ]
     },
     "execution_count": 54,
     "metadata": {},
     "output_type": "execute_result"
    }
   ],
   "source": [
    "X_train.BsmtQual.unique()"
   ]
  },
  {
   "cell_type": "markdown",
   "metadata": {},
   "source": [
    "Random"
   ]
  },
  {
   "cell_type": "code",
   "execution_count": 55,
   "metadata": {},
   "outputs": [],
   "source": [
    "for col in ['BsmtQual_random','FireplaceQu_random','GarageType_random']:\n",
    "    labels_dict = {k:i for i,k in enumerate(X_train[col].unique())}\n",
    "    X_train.loc[:,col] = X_train.loc[:,col].map(labels_dict)\n",
    "    X_test.loc[:,col] = X_test.loc[:,col].map(labels_dict)\n",
    "    "
   ]
  },
  {
   "cell_type": "code",
   "execution_count": 56,
   "metadata": {},
   "outputs": [],
   "source": [
    "from sklearn.linear_model import LinearRegression\n",
    "from sklearn.metrics import mean_squared_error"
   ]
  },
  {
   "cell_type": "code",
   "execution_count": 57,
   "metadata": {},
   "outputs": [
    {
     "name": "stdout",
     "output_type": "stream",
     "text": [
      "Train Set\n",
      "MSE 5389612584.186483\n",
      "Test Set\n",
      "MSE 5928632893.599409\n"
     ]
    }
   ],
   "source": [
    "clf = LinearRegression()\n",
    "clf.fit(X_train[['BsmtQual_random','FireplaceQu_random','GarageType_random']],Y_train)\n",
    "predict_train = clf.predict(X_train[['BsmtQual_random','FireplaceQu_random','GarageType_random']])\n",
    "print(\"Train Set\")\n",
    "print(\"MSE {}\".format(mean_squared_error(predict_train,Y_train)))\n",
    "print(\"Test Set\")\n",
    "predict_test = clf.predict(X_test[['BsmtQual_random','FireplaceQu_random','GarageType_random']])\n",
    "print(\"MSE {}\".format(mean_squared_error(predict_test,Y_test)))"
   ]
  },
  {
   "cell_type": "markdown",
   "metadata": {},
   "source": [
    "Most Frequent"
   ]
  },
  {
   "cell_type": "code",
   "execution_count": 58,
   "metadata": {},
   "outputs": [],
   "source": [
    "for col in ['BsmtQual_frequent','FireplaceQu_frequent','GarageType_frequent']:\n",
    "    labels_dict = {k:i for i,k in enumerate(X_train[col].unique())}\n",
    "    X_train.loc[:,col] = X_train.loc[:,col].map(labels_dict)\n",
    "    X_test.loc[:,col] = X_test.loc[:,col].map(labels_dict)"
   ]
  },
  {
   "cell_type": "code",
   "execution_count": 59,
   "metadata": {},
   "outputs": [
    {
     "name": "stdout",
     "output_type": "stream",
     "text": [
      "Train Set\n",
      "MSE 5945910923.453074\n",
      "Test Set\n",
      "MSE 6569703369.803234\n"
     ]
    }
   ],
   "source": [
    "clf = LinearRegression()\n",
    "clf.fit(X_train[['BsmtQual_frequent','FireplaceQu_frequent','GarageType_frequent']],Y_train)\n",
    "predict_train = clf.predict(X_train[['BsmtQual_frequent','FireplaceQu_frequent','GarageType_frequent']])\n",
    "print(\"Train Set\")\n",
    "print(\"MSE {}\".format(mean_squared_error(predict_train,Y_train)))\n",
    "print(\"Test Set\")\n",
    "predict_test = clf.predict(X_test[['BsmtQual_frequent','FireplaceQu_frequent','GarageType_frequent']])\n",
    "print(\"MSE {}\".format(mean_squared_error(predict_test,Y_test)))"
   ]
  },
  {
   "cell_type": "code",
   "execution_count": 64,
   "metadata": {},
   "outputs": [
    {
     "data": {
      "text/plain": [
       "618     0\n",
       "870     0\n",
       "92      0\n",
       "817     0\n",
       "302     1\n",
       "       ..\n",
       "763     0\n",
       "835     0\n",
       "1216    0\n",
       "559     1\n",
       "684     0\n",
       "Name: FireplaceQu_frequent, Length: 1168, dtype: int64"
      ]
     },
     "execution_count": 64,
     "metadata": {},
     "output_type": "execute_result"
    }
   ],
   "source": [
    "X_train.FireplaceQu_frequent"
   ]
  },
  {
   "cell_type": "code",
   "execution_count": null,
   "metadata": {},
   "outputs": [],
   "source": []
  }
 ],
 "metadata": {
  "kernelspec": {
   "display_name": "Python 3",
   "language": "python",
   "name": "python3"
  },
  "language_info": {
   "codemirror_mode": {
    "name": "ipython",
    "version": 3
   },
   "file_extension": ".py",
   "mimetype": "text/x-python",
   "name": "python",
   "nbconvert_exporter": "python",
   "pygments_lexer": "ipython3",
   "version": "3.6.9"
  }
 },
 "nbformat": 4,
 "nbformat_minor": 2
}
